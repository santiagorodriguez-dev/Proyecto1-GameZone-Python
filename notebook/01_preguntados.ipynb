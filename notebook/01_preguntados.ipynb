{
 "cells": [
  {
   "cell_type": "markdown",
   "metadata": {},
   "source": [
    "Preguntados\n",
    "El juego consiste en hacer preguntas al usuario sobre una variedad de temas. Las preguntas se dividen en distintas categorías como cultura general, historia, entretenimiento, actualidad, entre otras.\n",
    "\n",
    "El objetivo del jugador es responder correctamente a las preguntas para avanzar en el juego.\n",
    "\n",
    "El jugador gana si logra responder correctamente 10 preguntas consecutivas. Si falla una pregunta, el juego termina.\n",
    "\n",
    "Pistas para desarrollar el juego\n",
    "\n",
    "Comienza creando un conjunto de categorías como \"Cultura General\", \"Historia\", \"Entretenimiento\", \"Ciencia\", etc. Dentro de cada categoría, define un conjunto de preguntas con sus respectivas respuestas correctas y algunas opciones incorrectas.\n",
    "\n",
    "Implementa una lógica para seleccionar preguntas aleatorias de las distintas categorías. Esto asegura que cada partida sea diferente y mantiene el interés del jugador.\n",
    "\n",
    "Cada pregunta debe presentarse con un conjunto de opciones de respuesta (por ejemplo, A, B, C, D), donde solo una de ellas es correcta.\n",
    "\n",
    "Permite que el jugador elija su respuesta indicando la opción (A, B, C o D). Verifica que la opción ingresada sea válida antes de evaluarla.\n",
    "\n",
    "Después de que el jugador seleccione una opción, verifica si es correcta. Si acierta, continúa con la siguiente pregunta. Si falla, el juego termina y se informa al jugador que ha perdido.\n",
    "\n",
    "Lleva un registro de cuántas preguntas ha respondido correctamente el jugador de forma consecutiva. El objetivo es llegar a 10 aciertos seguidos.\n",
    "\n",
    "Si el jugador responde correctamente 10 preguntas seguidas, declara al jugador como ganador y termina el juego.\n",
    "\n",
    "Después de cada pregunta, informa al jugador si su respuesta fue correcta o incorrecta. También puedes mostrar cuántas respuestas correctas lleva acumuladas.\n",
    "\n",
    "Al final de la partida, ofrece la opción de jugar de nuevo. Si el jugador decide volver a intentarlo, reinicia el conteo y comienza con nuevas preguntas."
   ]
  },
  {
   "cell_type": "code",
   "execution_count": 42,
   "metadata": {},
   "outputs": [],
   "source": [
    "import ast\n",
    "\n",
    "def read_data_file():\n",
    "    with open('datos.txt', 'r',-1,\"utf-8\") as archivo:\n",
    "        contenido = archivo.read()\n",
    "        return ast.literal_eval(contenido)\n",
    "    \n",
    "res = read_data_file()\n",
    "\n",
    "#test\n",
    "res\n"
   ]
  },
  {
   "cell_type": "code",
   "execution_count": null,
   "metadata": {},
   "outputs": [],
   "source": [
    "def todas_las_preguntas(input_data, categorias):\n",
    "    preguntas = []\n",
    "    for categoria in categorias:\n",
    "        if (input_data.get(categoria)) != None:\n",
    "            for pregunta in input_data.get(categoria):\n",
    "                preguntas.append(pregunta)\n",
    "    return preguntas\n",
    "\n",
    "\n",
    "categorias = [\"Cultura General\", \"Historia\", \"Entretenimiento\", \"Ciencia\"]\n",
    "\n",
    "#test\n",
    "resultado = todas_las_preguntas(res,categorias)\n",
    "resultado"
   ]
  },
  {
   "cell_type": "code",
   "execution_count": null,
   "metadata": {},
   "outputs": [],
   "source": [
    "import random\n",
    "\n",
    "def list_random_preguntas(list_preguntas,num_random):\n",
    "    return random.choices(list_preguntas,k=num_random)\n",
    "\n",
    "#test\n",
    "list_preguntas = list_random_preguntas(resultado,10)\n",
    "list_preguntas\n"
   ]
  },
  {
   "cell_type": "code",
   "execution_count": null,
   "metadata": {},
   "outputs": [],
   "source": [
    "\n",
    "def extrae_respuestas_pregunta(pregunta):\n",
    "\n",
    "    result = []\n",
    "\n",
    "    for clave, valor in pregunta.items():\n",
    "        if(isinstance(valor, dict)):\n",
    "            for clave_sub, valor_sub in valor.items():\n",
    "                result.append((clave_sub,valor_sub))\n",
    "\n",
    "    return result\n",
    "\n",
    "\n",
    "resultado = extrae_respuestas_pregunta(list_preguntas[0])\n",
    "\n",
    "# test\n",
    "print(resultado)\n",
    "print(resultado[0][0])\n",
    "print(resultado[0][1])\n",
    "if (resultado[0][1] is True):\n",
    "    print(resultado[0])\n"
   ]
  },
  {
   "cell_type": "code",
   "execution_count": 52,
   "metadata": {},
   "outputs": [
    {
     "data": {
      "text/plain": [
       "'a'"
      ]
     },
     "execution_count": 52,
     "metadata": {},
     "output_type": "execute_result"
    }
   ],
   "source": [
    "def input_data():\n",
    "    dato = input()\n",
    "    if dato == 'a' or dato == 'b' or dato == 'c' or  dato == 'd':\n",
    "        return dato\n",
    "    else:\n",
    "        return 'z'\n",
    "#test\n",
    "input_data()"
   ]
  }
 ],
 "metadata": {
  "kernelspec": {
   "display_name": "Python 3",
   "language": "python",
   "name": "python3"
  },
  "language_info": {
   "codemirror_mode": {
    "name": "ipython",
    "version": 3
   },
   "file_extension": ".py",
   "mimetype": "text/x-python",
   "name": "python",
   "nbconvert_exporter": "python",
   "pygments_lexer": "ipython3",
   "version": "3.12.5"
  }
 },
 "nbformat": 4,
 "nbformat_minor": 2
}
