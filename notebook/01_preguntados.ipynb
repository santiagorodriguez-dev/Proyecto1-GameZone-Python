{
 "cells": [
  {
   "cell_type": "markdown",
   "metadata": {},
   "source": [
    "Preguntados\n",
    "El juego consiste en hacer preguntas al usuario sobre una variedad de temas. Las preguntas se dividen en distintas categorías como cultura general, historia, entretenimiento, actualidad, entre otras.\n",
    "\n",
    "El objetivo del jugador es responder correctamente a las preguntas para avanzar en el juego.\n",
    "\n",
    "El jugador gana si logra responder correctamente 10 preguntas consecutivas. Si falla una pregunta, el juego termina.\n",
    "\n",
    "Pistas para desarrollar el juego\n",
    "\n",
    "Comienza creando un conjunto de categorías como \"Cultura General\", \"Historia\", \"Entretenimiento\", \"Ciencia\", etc. Dentro de cada categoría, define un conjunto de preguntas con sus respectivas respuestas correctas y algunas opciones incorrectas.\n",
    "\n",
    "Implementa una lógica para seleccionar preguntas aleatorias de las distintas categorías. Esto asegura que cada partida sea diferente y mantiene el interés del jugador.\n",
    "\n",
    "Cada pregunta debe presentarse con un conjunto de opciones de respuesta (por ejemplo, A, B, C, D), donde solo una de ellas es correcta.\n",
    "\n",
    "Permite que el jugador elija su respuesta indicando la opción (A, B, C o D). Verifica que la opción ingresada sea válida antes de evaluarla.\n",
    "\n",
    "Después de que el jugador seleccione una opción, verifica si es correcta. Si acierta, continúa con la siguiente pregunta. Si falla, el juego termina y se informa al jugador que ha perdido.\n",
    "\n",
    "Lleva un registro de cuántas preguntas ha respondido correctamente el jugador de forma consecutiva. El objetivo es llegar a 10 aciertos seguidos.\n",
    "\n",
    "Si el jugador responde correctamente 10 preguntas seguidas, declara al jugador como ganador y termina el juego.\n",
    "\n",
    "Después de cada pregunta, informa al jugador si su respuesta fue correcta o incorrecta. También puedes mostrar cuántas respuestas correctas lleva acumuladas.\n",
    "\n",
    "Al final de la partida, ofrece la opción de jugar de nuevo. Si el jugador decide volver a intentarlo, reinicia el conteo y comienza con nuevas preguntas."
   ]
  },
  {
   "cell_type": "code",
   "execution_count": 82,
   "metadata": {},
   "outputs": [
    {
     "name": "stdout",
     "output_type": "stream",
     "text": [
      "Cultura General\n",
      "{'key': 1, 'Pregunta': '¿Cuándo acabó la II Guerra Mundial?', 'Respuestas': {'En 1945': True, 'En 1941': False, 'En 1989': False, 'Ninguna es Correcta': False}}\n",
      "{'key': 2, 'Pregunta': '¿Cuál era el apellido de la reina Isabel II de Inglaterra?', 'Respuestas': {'Windsor': True, 'Rodriguez': False, 'Fernandez': False, 'Bean': False}}\n",
      "Historia\n",
      "Entretenimiento\n",
      "Ciencia\n"
     ]
    }
   ],
   "source": [
    "categoria = [\"Cultura General\", \"Historia\", \"Entretenimiento\", \"Ciencia\"]\n",
    "\n",
    "respuesta_01 = {\n",
    "  \"En 1945\": True,\n",
    "  \"En 1941\": False,\n",
    "  \"En 1989\": False,\n",
    "  \"Ninguna es Correcta\": False\n",
    "}\n",
    "\n",
    "pregunta_01 = {\n",
    "  \"key\":1, \n",
    "  \"Pregunta\": \"¿Cuándo acabó la II Guerra Mundial?\",\n",
    "  \"Respuestas\" : respuesta_01\n",
    "}\n",
    "\n",
    "respuesta_02 = {\n",
    "  \"Windsor\": True,\n",
    "  \"Rodriguez\": False,\n",
    "  \"Fernandez\": False,\n",
    "  \"Bean\": False\n",
    "}\n",
    "\n",
    "pregunta_02 = {\n",
    "  \"key\":2, \n",
    "  \"Pregunta\": \"¿Cuál era el apellido de la reina Isabel II de Inglaterra?\",\n",
    "  \"Respuestas\" : respuesta_02\n",
    "}\n",
    "\n",
    "categorias_preguntas = {\n",
    "  categoria[0]: [pregunta_01, pregunta_02]\n",
    "}\n",
    "\n",
    "lista_preguntas = []\n",
    "\n",
    "# Respuestas\n",
    "for c in categoria:\n",
    "    print(c)\n",
    "    if (categorias_preguntas.get(c)) != None:\n",
    "        for f  in categorias_preguntas.get(c):\n",
    "            print(f)\n",
    "        \n",
    "    #    print(categorias_preguntas.get(c)[0].get('Respuestas'))\n",
    "\n",
    "#for x in categorias_preguntas[categoria[0]]:\n",
    "    #print(x.get('Pregunta'))\n",
    "    #print(x['Respuestas'])\n"
   ]
  }
 ],
 "metadata": {
  "kernelspec": {
   "display_name": "Python 3",
   "language": "python",
   "name": "python3"
  },
  "language_info": {
   "codemirror_mode": {
    "name": "ipython",
    "version": 3
   },
   "file_extension": ".py",
   "mimetype": "text/x-python",
   "name": "python",
   "nbconvert_exporter": "python",
   "pygments_lexer": "ipython3",
   "version": "3.12.5"
  }
 },
 "nbformat": 4,
 "nbformat_minor": 2
}
